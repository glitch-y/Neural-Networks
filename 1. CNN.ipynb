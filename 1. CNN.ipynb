{
  "nbformat": 4,
  "nbformat_minor": 0,
  "metadata": {
    "accelerator": "GPU",
    "colab": {
      "name": "Exercise2_DogvsCat_CNN.ipynb",
      "provenance": [],
      "include_colab_link": true
    },
    "kernelspec": {
      "display_name": "Python 3",
      "name": "python3"
    }
  },
  "cells": [
    {
      "cell_type": "markdown",
      "metadata": {
        "id": "view-in-github",
        "colab_type": "text"
      },
      "source": [
        "<a href=\"https://colab.research.google.com/github/glitch-y/Neural-Networks/blob/main/CNN_Image_Classification.ipynb\" target=\"_parent\"><img src=\"https://colab.research.google.com/assets/colab-badge.svg\" alt=\"Open In Colab\"/></a>"
      ]
    },
    {
      "cell_type": "markdown",
      "metadata": {
        "id": "qTh9DiKVslsJ"
      },
      "source": [
        "## Dogs vs. Cats \n",
        "\n",
        "This paper contains a script determining whether images contain either a dog or a cat.  This is easy for humans, dogs, and cats. Your computer will find it a bit more difficult.\n",
        "\n",
        "![alt text](https://miro.medium.com/max/3000/1*bhFifratH9DjKqMBTeQG5A.gif)\n",
        "\n",
        "Ref: https://medium.com/@thegrigorian/rolling-in-the-deep-cnn-c8d3f7108c8c"
      ]
    },
    {
      "cell_type": "markdown",
      "metadata": {
        "id": "RSBI-_mSSY1g"
      },
      "source": [
        "Get API Key from Kaggle using following steps:\n",
        "1. Login to [Kaggle](https://www.kaggle.com/)\n",
        "2. Open Dataset (https://www.kaggle.com/c/dogs-vs-cats/rules) and accept terms and condition. \n",
        "3. On the top right corner click on your Icon and go to accounts and press a button \"Create New API Token\". It will download a JSON file containing the username and key. \n"
      ]
    },
    {
      "cell_type": "code",
      "metadata": {
        "colab": {
          "base_uri": "https://localhost:8080/"
        },
        "id": "YmXSOc0tZIGA",
        "outputId": "00ff490b-4f08-494a-ce60-aaf2faedc848"
      },
      "source": [
        "import os\n",
        "os.environ['KAGGLE_USERNAME'] = \"flavs6\" # username from the json file\n",
        "os.environ['KAGGLE_KEY'] = \"69f66f71c9131848efb66acb65b6360f\" # key from the json file\n",
        "!kaggle competitions download -c dogs-vs-cats # api copied from kaggle (https://www.kaggle.com/c/dogs-vs-cats/data)\n"
      ],
      "execution_count": null,
      "outputs": [
        {
          "output_type": "stream",
          "text": [
            "Warning: Looks like you're using an outdated API Version, please consider updating (server 1.5.12 / client 1.5.4)\n",
            "Downloading train.zip to /content\n",
            "100% 541M/543M [00:05<00:00, 149MB/s]\n",
            "100% 543M/543M [00:05<00:00, 104MB/s]\n",
            "Downloading test1.zip to /content\n",
            " 97% 262M/271M [00:05<00:00, 48.5MB/s]\n",
            "100% 271M/271M [00:05<00:00, 52.3MB/s]\n",
            "Downloading sampleSubmission.csv to /content\n",
            "  0% 0.00/86.8k [00:00<?, ?B/s]\n",
            "100% 86.8k/86.8k [00:00<00:00, 77.0MB/s]\n"
          ],
          "name": "stdout"
        }
      ]
    },
    {
      "cell_type": "code",
      "metadata": {
        "colab": {
          "base_uri": "https://localhost:8080/"
        },
        "id": "PiwIL8d1n7eS",
        "outputId": "489a27fa-f765-42ee-91c5-1456c1671ec3"
      },
      "source": [
        "# Unzip training data\n",
        "from zipfile import ZipFile\n",
        "file_name = \"/content/train.zip\"\n",
        "with ZipFile(file_name, 'r') as zip:\n",
        "  zip.extractall()\n",
        "  print('done')"
      ],
      "execution_count": null,
      "outputs": [
        {
          "output_type": "stream",
          "text": [
            "done\n"
          ],
          "name": "stdout"
        }
      ]
    },
    {
      "cell_type": "code",
      "metadata": {
        "colab": {
          "base_uri": "https://localhost:8080/"
        },
        "id": "sa2Bj5i7pPKV",
        "outputId": "d1ea4ea7-6539-411b-cdef-e772a0f7fb67"
      },
      "source": [
        "# Get all the paths\n",
        "data_dir_list = os.listdir('/content/train')\n",
        "#print(data_dir_list)\n",
        "path, dirs, files = next(os.walk(\"/content/train\"))\n",
        "file_count = len(files)\n",
        "print(file_count)"
      ],
      "execution_count": null,
      "outputs": [
        {
          "output_type": "stream",
          "text": [
            "25000\n"
          ],
          "name": "stdout"
        }
      ]
    },
    {
      "cell_type": "code",
      "metadata": {
        "id": "0ERlHkfHqpK8"
      },
      "source": [
        "# Make new base directory\n",
        "original_dataset_dir = '/content/train'\n",
        "base_dir = '/content/cats_and_dogs_small'\n",
        "os.mkdir(base_dir)"
      ],
      "execution_count": null,
      "outputs": []
    },
    {
      "cell_type": "code",
      "metadata": {
        "id": "AANB1UJ6rQhM"
      },
      "source": [
        "train_dir = os.path.join(base_dir, 'train')\n",
        "os.mkdir(train_dir)\n",
        "\n",
        "validation_dir = os.path.join(base_dir, 'validation')\n",
        "os.mkdir(validation_dir)\n",
        "\n",
        "test_dir = os.path.join(base_dir, 'test')\n",
        "os.mkdir(test_dir)\n",
        "\n",
        "train_cats_dir = os.path.join(train_dir, 'cats')\n",
        "os.mkdir(train_cats_dir)\n",
        "\n",
        "train_dogs_dir = os.path.join(train_dir, 'dogs')\n",
        "os.mkdir(train_dogs_dir)\n",
        "\n",
        "validation_cats_dir = os.path.join(validation_dir, 'cats')\n",
        "os.mkdir(validation_cats_dir)\n",
        "\n",
        "validation_dogs_dir = os.path.join(validation_dir, 'dogs')\n",
        "os.mkdir(validation_dogs_dir)\n",
        "\n",
        "test_cats_dir = os.path.join(test_dir, 'cats')\n",
        "os.mkdir(test_cats_dir)\n",
        "\n",
        "test_dogs_dir = os.path.join(test_dir, 'dogs')\n",
        "os.mkdir(test_dogs_dir)"
      ],
      "execution_count": null,
      "outputs": []
    },
    {
      "cell_type": "code",
      "metadata": {
        "id": "ULRgL9s9rV8T"
      },
      "source": [
        "import shutil\n",
        "fnames = ['cat.{}.jpg'.format(i) for i in range(1000)]\n",
        "for fname in fnames:\n",
        "    src = os.path.join(original_dataset_dir, fname)\n",
        "    dst = os.path.join(train_cats_dir, fname)\n",
        "    #print(src,dst)\n",
        "    shutil.copyfile(src, dst)\n",
        "    \n",
        "fnames = ['cat.{}.jpg'.format(i) for i in range(1000, 1500)]\n",
        "for fname in fnames:\n",
        "    src = os.path.join(original_dataset_dir, fname)\n",
        "    dst = os.path.join(validation_cats_dir, fname)\n",
        "    shutil.copyfile(src, dst)\n",
        "\n",
        "fnames = ['cat.{}.jpg'.format(i) for i in range(1500, 2000)]\n",
        "for fname in fnames:\n",
        "    src = os.path.join(original_dataset_dir, fname)\n",
        "    dst = os.path.join(test_cats_dir, fname)\n",
        "    shutil.copyfile(src, dst)\n",
        "    \n",
        "fnames = ['dog.{}.jpg'.format(i) for i in range(1000)]\n",
        "for fname in fnames:\n",
        "    src = os.path.join(original_dataset_dir, fname)\n",
        "    dst = os.path.join(train_dogs_dir, fname)\n",
        "    shutil.copyfile(src, dst)\n",
        "\n",
        "fnames = ['dog.{}.jpg'.format(i) for i in range(1000, 1500)]\n",
        "for fname in fnames:\n",
        "    src = os.path.join(original_dataset_dir, fname)\n",
        "    dst = os.path.join(validation_dogs_dir, fname)\n",
        "    shutil.copyfile(src, dst)\n",
        "\n",
        "fnames = ['dog.{}.jpg'.format(i) for i in range(1500, 2000)]\n",
        "for fname in fnames:\n",
        "    src = os.path.join(original_dataset_dir, fname)\n",
        "    dst = os.path.join(test_dogs_dir, fname)\n",
        "    shutil.copyfile(src, dst)"
      ],
      "execution_count": null,
      "outputs": []
    },
    {
      "cell_type": "code",
      "metadata": {
        "colab": {
          "base_uri": "https://localhost:8080/"
        },
        "id": "ul3XAbIyr7vC",
        "outputId": "0bcf06f3-20f8-41da-856d-0fdec3df5b4d"
      },
      "source": [
        "print('total training cat images:', len(os.listdir(train_cats_dir)))\n",
        "print('total training dog images:', len(os.listdir(train_dogs_dir)))\n",
        "print('total validation cat images:', len(os.listdir(validation_cats_dir)))\n",
        "\n",
        "print('total validation dog images:', len(os.listdir(validation_dogs_dir)))\n",
        "print('total test cat images:', len(os.listdir(test_cats_dir)))\n",
        "print('total test dog images:', len(os.listdir(test_dogs_dir)))"
      ],
      "execution_count": null,
      "outputs": [
        {
          "output_type": "stream",
          "text": [
            "total training cat images: 1000\n",
            "total training dog images: 1000\n",
            "total validation cat images: 500\n",
            "total validation dog images: 500\n",
            "total test cat images: 500\n",
            "total test dog images: 500\n"
          ],
          "name": "stdout"
        }
      ]
    },
    {
      "cell_type": "code",
      "metadata": {
        "colab": {
          "base_uri": "https://localhost:8080/"
        },
        "id": "o9yTA21_r-ma",
        "outputId": "068882d8-928a-4e1f-dd9d-ada4b1983173"
      },
      "source": [
        "from keras import layers\n",
        "from keras import models\n",
        "\n",
        "model = models.Sequential()\n",
        "model.add(layers.Conv2D(32, (3, 3), activation='relu', input_shape=(150, 150, 3)))\n",
        "model.add(layers.MaxPooling2D((2, 2)))\n",
        "model.add(layers.Conv2D(64, (3, 3), activation='relu'))\n",
        "model.add(layers.MaxPooling2D((2, 2)))\n",
        "model.add(layers.Conv2D(128, (3, 3), activation='relu'))\n",
        "model.add(layers.MaxPooling2D((2, 2)))\n",
        "model.add(layers.Conv2D(128, (3, 3), activation='relu'))\n",
        "model.add(layers.MaxPooling2D((2, 2)))\n",
        "model.add(layers.Flatten())\n",
        "model.add(layers.Dense(512, activation='relu'))\n",
        "model.add(layers.Dense(1, activation='sigmoid'))\n",
        "model.summary()"
      ],
      "execution_count": null,
      "outputs": [
        {
          "output_type": "stream",
          "text": [
            "Model: \"sequential\"\n",
            "_________________________________________________________________\n",
            "Layer (type)                 Output Shape              Param #   \n",
            "=================================================================\n",
            "conv2d (Conv2D)              (None, 148, 148, 32)      896       \n",
            "_________________________________________________________________\n",
            "max_pooling2d (MaxPooling2D) (None, 74, 74, 32)        0         \n",
            "_________________________________________________________________\n",
            "conv2d_1 (Conv2D)            (None, 72, 72, 64)        18496     \n",
            "_________________________________________________________________\n",
            "max_pooling2d_1 (MaxPooling2 (None, 36, 36, 64)        0         \n",
            "_________________________________________________________________\n",
            "conv2d_2 (Conv2D)            (None, 34, 34, 128)       73856     \n",
            "_________________________________________________________________\n",
            "max_pooling2d_2 (MaxPooling2 (None, 17, 17, 128)       0         \n",
            "_________________________________________________________________\n",
            "conv2d_3 (Conv2D)            (None, 15, 15, 128)       147584    \n",
            "_________________________________________________________________\n",
            "max_pooling2d_3 (MaxPooling2 (None, 7, 7, 128)         0         \n",
            "_________________________________________________________________\n",
            "flatten (Flatten)            (None, 6272)              0         \n",
            "_________________________________________________________________\n",
            "dense (Dense)                (None, 512)               3211776   \n",
            "_________________________________________________________________\n",
            "dense_1 (Dense)              (None, 1)                 513       \n",
            "=================================================================\n",
            "Total params: 3,453,121\n",
            "Trainable params: 3,453,121\n",
            "Non-trainable params: 0\n",
            "_________________________________________________________________\n"
          ],
          "name": "stdout"
        }
      ]
    },
    {
      "cell_type": "code",
      "metadata": {
        "id": "2mG8wekxsBVS"
      },
      "source": [
        "from keras import optimizers\n",
        "model.compile(loss='binary_crossentropy', \n",
        "              optimizer=optimizers.RMSprop(lr=1e-4),\n",
        "              metrics=['acc'])"
      ],
      "execution_count": null,
      "outputs": []
    },
    {
      "cell_type": "markdown",
      "metadata": {
        "id": "7zS4Klm8qWp6"
      },
      "source": [
        "## Using ImageDataGenerator to read images from directories\n",
        "Data must be formatted into appropriately preprocessed floatingpoint tensors before being fed into the network. Currently, the data sits on a drive as JPEG files, so the steps for getting it into the network are roughly as follows:\n",
        "\n",
        "* Read the picture files.\n",
        "* Decode the JPEG content to RGB grids of pixels.\n",
        "* Convert these into floating-point tensors.\n",
        "* Rescale the pixel values (between 0 and 255) to the [0, 1] interval (as you know, neural networks prefer to deal with small input values).\n",
        "\n",
        "Keras has a module with image-processing helper tools, located at keras.preprocessing.image. In particular, it contains the class ImageDataGenerator,which allows for a quic set up of Python generators that can automatically turn image files on disk into batches of preprocessed tensors."
      ]
    },
    {
      "cell_type": "code",
      "metadata": {
        "colab": {
          "base_uri": "https://localhost:8080/"
        },
        "id": "XJ7XU7t9sEh6",
        "outputId": "b57ba56d-7d13-4134-b2bb-73fe0c9b850e"
      },
      "source": [
        "from keras.preprocessing.image import ImageDataGenerator\n",
        "\n",
        "train_datagen = ImageDataGenerator(rescale=1./255)\n",
        "test_datagen = ImageDataGenerator(rescale=1./255)\n",
        "\n",
        "train_generator = train_datagen.flow_from_directory(train_dir,\n",
        "                                                    target_size=(150, 150), \n",
        "                                                    batch_size=20,\n",
        "                                                    class_mode='binary')\n",
        "\n",
        "validation_generator = test_datagen.flow_from_directory(validation_dir,\n",
        "                                                        target_size=(150, 150),\n",
        "                                                        batch_size=20,\n",
        "                                                        class_mode='binary')"
      ],
      "execution_count": null,
      "outputs": [
        {
          "output_type": "stream",
          "text": [
            "Found 2000 images belonging to 2 classes.\n",
            "Found 1000 images belonging to 2 classes.\n"
          ],
          "name": "stdout"
        }
      ]
    },
    {
      "cell_type": "markdown",
      "metadata": {
        "id": "SEgLywySqm4u"
      },
      "source": [
        "Because the data is being generated endlessly, the Keras model needs to know how many samples to draw from the generator before declaring anepoch over. This is the role of the `steps_per_epoch` argument: after having drawn `steps_per_epoch` batches from the generator—that is, after having run for `steps_per_epoch` gradient descent steps—the fitting process will go to the next epoch. In this case, batches are 20 samples, so it will take 100 batches until you see your target of 2,000 samples.\n",
        "\n",
        "When using fit_generator, you can pass a validation_data argument, much as with the fit method. It’s important to note that this argument is allowed to be a data generator, but it could also be a tuple of Numpy arrays. If you pass a generator as validation_data, then this generator is expected to yield batches of validation data endlessly; thus you should also specify the validation_steps argument, which tells the process how many batches to draw from the validation generator for evaluation."
      ]
    },
    {
      "cell_type": "code",
      "metadata": {
        "colab": {
          "base_uri": "https://localhost:8080/"
        },
        "id": "yMyfPphJsJG6",
        "outputId": "51aa5254-d204-4f2d-b4ba-af5439ec3f3d"
      },
      "source": [
        "history = model.fit_generator(train_generator,\n",
        "                              steps_per_epoch=100,\n",
        "                              epochs=30,\n",
        "                              validation_data=validation_generator,\n",
        "                              validation_steps=10)"
      ],
      "execution_count": null,
      "outputs": [
        {
          "output_type": "stream",
          "text": [
            "/usr/local/lib/python3.7/dist-packages/tensorflow/python/keras/engine/training.py:1844: UserWarning: `Model.fit_generator` is deprecated and will be removed in a future version. Please use `Model.fit`, which supports generators.\n",
            "  warnings.warn('`Model.fit_generator` is deprecated and '\n"
          ],
          "name": "stderr"
        },
        {
          "output_type": "stream",
          "text": [
            "Epoch 1/30\n",
            "100/100 [==============================] - 23s 64ms/step - loss: 0.6956 - acc: 0.5218 - val_loss: 0.6615 - val_acc: 0.5900\n",
            "Epoch 2/30\n",
            "100/100 [==============================] - 6s 60ms/step - loss: 0.6653 - acc: 0.6029 - val_loss: 0.6650 - val_acc: 0.5350\n",
            "Epoch 3/30\n",
            "100/100 [==============================] - 6s 61ms/step - loss: 0.6353 - acc: 0.6379 - val_loss: 0.6065 - val_acc: 0.6850\n",
            "Epoch 4/30\n",
            "100/100 [==============================] - 6s 60ms/step - loss: 0.5782 - acc: 0.6986 - val_loss: 0.6299 - val_acc: 0.6300\n",
            "Epoch 5/30\n",
            "100/100 [==============================] - 6s 60ms/step - loss: 0.5237 - acc: 0.7410 - val_loss: 0.6123 - val_acc: 0.6650\n",
            "Epoch 6/30\n",
            "100/100 [==============================] - 6s 60ms/step - loss: 0.4998 - acc: 0.7580 - val_loss: 0.5381 - val_acc: 0.7200\n",
            "Epoch 7/30\n",
            "100/100 [==============================] - 6s 59ms/step - loss: 0.4864 - acc: 0.7640 - val_loss: 0.6105 - val_acc: 0.6800\n",
            "Epoch 8/30\n",
            "100/100 [==============================] - 6s 60ms/step - loss: 0.4247 - acc: 0.8003 - val_loss: 0.5147 - val_acc: 0.7650\n",
            "Epoch 9/30\n",
            "100/100 [==============================] - 6s 59ms/step - loss: 0.4219 - acc: 0.8029 - val_loss: 0.6335 - val_acc: 0.6550\n",
            "Epoch 10/30\n",
            "100/100 [==============================] - 6s 59ms/step - loss: 0.3881 - acc: 0.8287 - val_loss: 0.5231 - val_acc: 0.7450\n",
            "Epoch 11/30\n",
            "100/100 [==============================] - 6s 59ms/step - loss: 0.3820 - acc: 0.8354 - val_loss: 0.4932 - val_acc: 0.7550\n",
            "Epoch 12/30\n",
            "100/100 [==============================] - 6s 59ms/step - loss: 0.3558 - acc: 0.8492 - val_loss: 0.5228 - val_acc: 0.7600\n",
            "Epoch 13/30\n",
            "100/100 [==============================] - 6s 60ms/step - loss: 0.3241 - acc: 0.8675 - val_loss: 0.5520 - val_acc: 0.7400\n",
            "Epoch 14/30\n",
            "100/100 [==============================] - 6s 60ms/step - loss: 0.3029 - acc: 0.8744 - val_loss: 0.6184 - val_acc: 0.7000\n",
            "Epoch 15/30\n",
            "100/100 [==============================] - 6s 60ms/step - loss: 0.2761 - acc: 0.8979 - val_loss: 0.6443 - val_acc: 0.6950\n",
            "Epoch 16/30\n",
            "100/100 [==============================] - 6s 58ms/step - loss: 0.2571 - acc: 0.9011 - val_loss: 0.6986 - val_acc: 0.7100\n",
            "Epoch 17/30\n",
            "100/100 [==============================] - 6s 60ms/step - loss: 0.2430 - acc: 0.9014 - val_loss: 0.6833 - val_acc: 0.7000\n",
            "Epoch 18/30\n",
            "100/100 [==============================] - 6s 59ms/step - loss: 0.2244 - acc: 0.9095 - val_loss: 0.6106 - val_acc: 0.7250\n",
            "Epoch 19/30\n",
            "100/100 [==============================] - 6s 60ms/step - loss: 0.2055 - acc: 0.9228 - val_loss: 0.6408 - val_acc: 0.7200\n",
            "Epoch 20/30\n",
            "100/100 [==============================] - 6s 59ms/step - loss: 0.1778 - acc: 0.9339 - val_loss: 0.8060 - val_acc: 0.6650\n",
            "Epoch 21/30\n",
            "100/100 [==============================] - 6s 59ms/step - loss: 0.1540 - acc: 0.9536 - val_loss: 0.7987 - val_acc: 0.6750\n",
            "Epoch 22/30\n",
            "100/100 [==============================] - 6s 59ms/step - loss: 0.1438 - acc: 0.9547 - val_loss: 0.6124 - val_acc: 0.7450\n",
            "Epoch 23/30\n",
            "100/100 [==============================] - 6s 60ms/step - loss: 0.1271 - acc: 0.9582 - val_loss: 0.7624 - val_acc: 0.7450\n",
            "Epoch 24/30\n",
            "100/100 [==============================] - 6s 59ms/step - loss: 0.1153 - acc: 0.9652 - val_loss: 0.8974 - val_acc: 0.7050\n",
            "Epoch 25/30\n",
            "100/100 [==============================] - 6s 59ms/step - loss: 0.1029 - acc: 0.9654 - val_loss: 0.7785 - val_acc: 0.7150\n",
            "Epoch 26/30\n",
            "100/100 [==============================] - 6s 59ms/step - loss: 0.0913 - acc: 0.9742 - val_loss: 0.8736 - val_acc: 0.7300\n",
            "Epoch 27/30\n",
            "100/100 [==============================] - 6s 60ms/step - loss: 0.0714 - acc: 0.9799 - val_loss: 0.8671 - val_acc: 0.7150\n",
            "Epoch 28/30\n",
            "100/100 [==============================] - 6s 60ms/step - loss: 0.0533 - acc: 0.9857 - val_loss: 1.1070 - val_acc: 0.7200\n",
            "Epoch 29/30\n",
            "100/100 [==============================] - 6s 60ms/step - loss: 0.0526 - acc: 0.9868 - val_loss: 0.9457 - val_acc: 0.7700\n",
            "Epoch 30/30\n",
            "100/100 [==============================] - 6s 59ms/step - loss: 0.0396 - acc: 0.9906 - val_loss: 0.9098 - val_acc: 0.7450\n"
          ],
          "name": "stdout"
        }
      ]
    },
    {
      "cell_type": "code",
      "metadata": {
        "colab": {
          "base_uri": "https://localhost:8080/",
          "height": 545
        },
        "id": "MZaZ2HWZsNUi",
        "outputId": "7ce44a9a-9873-4010-8d3b-e988f76b27a4"
      },
      "source": [
        "model.save('cats_and_dogs_small_1.h5')\n",
        "\n",
        "import matplotlib.pyplot as plt\n",
        "\n",
        "acc = history.history['acc']\n",
        "val_acc = history.history['val_acc']\n",
        "loss = history.history['loss']\n",
        "val_loss = history.history['val_loss']\n",
        "\n",
        "epochs = range(1, len(acc) + 1)\n",
        "\n",
        "plt.plot(epochs, acc, 'bo', label='Training acc')\n",
        "plt.plot(epochs, val_acc, 'b', label='Validation acc')\n",
        "plt.title('Training and validation accuracy')\n",
        "plt.legend()\n",
        "\n",
        "plt.figure()\n",
        "\n",
        "plt.plot(epochs, loss, 'bo', label='Training loss')\n",
        "plt.plot(epochs, val_loss, 'b', label='Validation loss')\n",
        "plt.title('Training and validation loss')\n",
        "plt.legend()\n",
        "\n",
        "plt.show()"
      ],
      "execution_count": null,
      "outputs": [
        {
          "output_type": "display_data",
          "data": {
            "image/png": "[encoded data removed]",
            "text/plain": [
              "<Figure size 432x288 with 1 Axes>"
            ]
          },
          "metadata": {
            "tags": [],
            "needs_background": "light"
          }
        },
        {
          "output_type": "display_data",
          "data": {
            "image/png": "[encoded data removed]",
            "text/plain": [
              "<Figure size 432x288 with 1 Axes>"
            ]
          },
          "metadata": {
            "tags": [],
            "needs_background": "light"
          }
        }
      ]
    },
    {
      "cell_type": "markdown",
      "metadata": {
        "id": "XKZmXmBcq_8-"
      },
      "source": [
        "## Convolutional Networks with Dropout\n",
        "\n",
        "![alt text](https://camo.githubusercontent.com/ee6fa1073247cd2c3d241300caf110d7a7541bc5/68747470733a2f2f63646e2d696d616765732d312e6d656469756d2e636f6d2f6d61782f3830302f312a4972644a355067684439596f4f7956415137334d4a772e676966)\n",
        "\n",
        "Ref: https://github.com/mneha4/Training-Neural-Nets---Guidelines"
      ]
    },
    {
      "cell_type": "code",
      "metadata": {
        "id": "wu3cqeYQrDeN"
      },
      "source": [
        "model = models.Sequential()\n",
        "model.add(layers.Conv2D(32, (3, 3), activation='relu',\n",
        "input_shape=(150, 150, 3)))\n",
        "model.add(layers.MaxPooling2D((2, 2)))\n",
        "model.add(layers.Conv2D(64, (3, 3), activation='relu'))\n",
        "model.add(layers.MaxPooling2D((2, 2)))\n",
        "model.add(layers.Conv2D(128, (3, 3), activation='relu'))\n",
        "model.add(layers.MaxPooling2D((2, 2)))\n",
        "model.add(layers.Conv2D(128, (3, 3), activation='relu'))\n",
        "model.add(layers.MaxPooling2D((2, 2)))\n",
        "model.add(layers.Flatten())\n",
        "model.add(layers.Dropout(0.5))\n",
        "model.add(layers.Dense(512, activation='relu'))\n",
        "model.add(layers.Dense(1, activation='sigmoid'))\n",
        "\n",
        "model.compile(loss='binary_crossentropy',\n",
        "              optimizer=optimizers.RMSprop(lr=1e-4),\n",
        "              metrics=['acc'])"
      ],
      "execution_count": null,
      "outputs": []
    },
    {
      "cell_type": "code",
      "metadata": {
        "colab": {
          "base_uri": "https://localhost:8080/"
        },
        "id": "QSeLpvY0rH7F",
        "outputId": "71dd1322-89aa-42e0-9798-31221268f3a7"
      },
      "source": [
        "\n",
        "train_datagen = ImageDataGenerator(rescale=1./255,\n",
        "                                   rotation_range=40,\n",
        "                                   width_shift_range=0.2,\n",
        "                                   height_shift_range=0.2,\n",
        "                                   shear_range=0.2,\n",
        "                                   zoom_range=0.2,\n",
        "                                   horizontal_flip=True,)\n",
        "\n",
        "test_datagen = ImageDataGenerator(rescale=1./255)\n",
        "\n",
        "train_generator = train_datagen.flow_from_directory(train_dir,\n",
        "                                                    target_size=(150, 150),\n",
        "                                                    batch_size=20,\n",
        "                                                    class_mode='binary')\n",
        "\n",
        "validation_generator = test_datagen.flow_from_directory(validation_dir,\n",
        "                                                        target_size=(150, 150),\n",
        "                                                        batch_size=20,\n",
        "                                                        class_mode='binary')\n",
        "\n",
        "history = model.fit_generator(train_generator,\n",
        "                              steps_per_epoch=100,\n",
        "                              epochs=20,\n",
        "                              validation_data=validation_generator,\n",
        "                              validation_steps=50)"
      ],
      "execution_count": null,
      "outputs": [
        {
          "output_type": "stream",
          "text": [
            "Found 2000 images belonging to 2 classes.\n",
            "Found 1000 images belonging to 2 classes.\n"
          ],
          "name": "stdout"
        },
        {
          "output_type": "stream",
          "text": [
            "/usr/local/lib/python3.7/dist-packages/tensorflow/python/keras/engine/training.py:1844: UserWarning: `Model.fit_generator` is deprecated and will be removed in a future version. Please use `Model.fit`, which supports generators.\n",
            "  warnings.warn('`Model.fit_generator` is deprecated and '\n"
          ],
          "name": "stderr"
        },
        {
          "output_type": "stream",
          "text": [
            "Epoch 1/20\n",
            "100/100 [==============================] - 17s 165ms/step - loss: 0.7031 - acc: 0.4906 - val_loss: 0.6846 - val_acc: 0.5050\n",
            "Epoch 2/20\n",
            "100/100 [==============================] - 16s 163ms/step - loss: 0.6870 - acc: 0.5350 - val_loss: 0.6846 - val_acc: 0.5040\n",
            "Epoch 3/20\n",
            "100/100 [==============================] - 16s 163ms/step - loss: 0.6799 - acc: 0.5646 - val_loss: 0.6618 - val_acc: 0.5830\n",
            "Epoch 4/20\n",
            "100/100 [==============================] - 16s 161ms/step - loss: 0.6631 - acc: 0.6100 - val_loss: 0.6582 - val_acc: 0.5860\n",
            "Epoch 5/20\n",
            "100/100 [==============================] - 16s 164ms/step - loss: 0.6539 - acc: 0.6212 - val_loss: 0.6365 - val_acc: 0.6350\n",
            "Epoch 6/20\n",
            "100/100 [==============================] - 16s 162ms/step - loss: 0.6498 - acc: 0.6237 - val_loss: 0.6226 - val_acc: 0.6450\n",
            "Epoch 7/20\n",
            "100/100 [==============================] - 16s 162ms/step - loss: 0.6430 - acc: 0.6450 - val_loss: 0.6019 - val_acc: 0.6630\n",
            "Epoch 8/20\n",
            "100/100 [==============================] - 16s 162ms/step - loss: 0.6238 - acc: 0.6557 - val_loss: 0.6218 - val_acc: 0.6400\n",
            "Epoch 9/20\n",
            "100/100 [==============================] - 16s 164ms/step - loss: 0.6257 - acc: 0.6344 - val_loss: 0.5635 - val_acc: 0.7060\n",
            "Epoch 10/20\n",
            "100/100 [==============================] - 16s 162ms/step - loss: 0.6133 - acc: 0.6592 - val_loss: 0.5845 - val_acc: 0.6860\n",
            "Epoch 11/20\n",
            "100/100 [==============================] - 16s 163ms/step - loss: 0.5924 - acc: 0.6718 - val_loss: 0.5559 - val_acc: 0.7080\n",
            "Epoch 12/20\n",
            "100/100 [==============================] - 16s 164ms/step - loss: 0.5913 - acc: 0.6726 - val_loss: 0.5479 - val_acc: 0.7160\n",
            "Epoch 13/20\n",
            "100/100 [==============================] - 17s 169ms/step - loss: 0.5942 - acc: 0.6726 - val_loss: 0.5983 - val_acc: 0.6660\n",
            "Epoch 14/20\n",
            "100/100 [==============================] - 16s 164ms/step - loss: 0.5846 - acc: 0.6880 - val_loss: 0.5750 - val_acc: 0.7020\n",
            "Epoch 15/20\n",
            "100/100 [==============================] - 17s 166ms/step - loss: 0.5913 - acc: 0.6928 - val_loss: 0.5344 - val_acc: 0.7290\n",
            "Epoch 16/20\n",
            "100/100 [==============================] - 16s 165ms/step - loss: 0.5555 - acc: 0.7198 - val_loss: 0.6751 - val_acc: 0.6060\n",
            "Epoch 17/20\n",
            "100/100 [==============================] - 17s 166ms/step - loss: 0.5756 - acc: 0.7002 - val_loss: 0.5139 - val_acc: 0.7600\n",
            "Epoch 18/20\n",
            "100/100 [==============================] - 17s 166ms/step - loss: 0.5571 - acc: 0.7180 - val_loss: 0.5307 - val_acc: 0.7260\n",
            "Epoch 19/20\n",
            "100/100 [==============================] - 17s 165ms/step - loss: 0.5629 - acc: 0.7014 - val_loss: 0.6008 - val_acc: 0.6690\n",
            "Epoch 20/20\n",
            "100/100 [==============================] - 16s 165ms/step - loss: 0.5491 - acc: 0.7280 - val_loss: 0.4972 - val_acc: 0.7580\n"
          ],
          "name": "stdout"
        }
      ]
    },
    {
      "cell_type": "markdown",
      "metadata": {
        "id": "BRdU5yrkUF_b"
      },
      "source": [
        "# Task 2:\n",
        "\n",
        "We have used Dropout to enhance the performance of the CNN model. Can you please use whatever you like to further enhance the performance from `val_acc: 0.7506`? "
      ]
    },
    {
      "cell_type": "code",
      "metadata": {
        "colab": {
          "base_uri": "https://localhost:8080/"
        },
        "id": "4pDM2-V8-f73",
        "outputId": "519b4a93-5b2c-4d0c-d733-66cdf8e7c264"
      },
      "source": [
        "model = models.Sequential()\n",
        "model.add(layers.Conv2D(32, (3, 3), activation='relu', input_shape=(150, 150, 3)))\n",
        "model.add(layers.MaxPooling2D((2, 2)))\n",
        "model.add(layers.Conv2D(64, (3, 3), activation='relu'))\n",
        "model.add(layers.MaxPooling2D((2, 2)))\n",
        "model.add(layers.Conv2D(128, (3, 3), activation='relu'))\n",
        "model.add(layers.MaxPooling2D((2, 2)))\n",
        "model.add(layers.Conv2D(128, (3, 3), activation='relu'))\n",
        "model.add(layers.MaxPooling2D((2, 2)))\n",
        "model.add(layers.Flatten())\n",
        "model.add(layers.Dense(512, activation='relu'))\n",
        "model.add(layers.Dropout(0.1))\n",
        "model.add(layers.Dense(128, activation='relu'))\n",
        "model.add(layers.Dropout(0.2))\n",
        "model.add(layers.Dense(64, activation='relu'))\n",
        "model.add(layers.Dropout(0.5))\n",
        "model.add(layers.Dense(1, activation='sigmoid'))\n",
        "\n",
        "model.compile(loss='binary_crossentropy',\n",
        "              optimizer=optimizers.RMSprop(lr=2e-4),\n",
        "              metrics=['acc'])\n",
        "print(model.summary())"
      ],
      "execution_count": null,
      "outputs": [
        {
          "output_type": "stream",
          "text": [
            "Model: \"sequential_4\"\n",
            "_________________________________________________________________\n",
            "Layer (type)                 Output Shape              Param #   \n",
            "=================================================================\n",
            "conv2d_16 (Conv2D)           (None, 148, 148, 32)      896       \n",
            "_________________________________________________________________\n",
            "max_pooling2d_16 (MaxPooling (None, 74, 74, 32)        0         \n",
            "_________________________________________________________________\n",
            "conv2d_17 (Conv2D)           (None, 72, 72, 64)        18496     \n",
            "_________________________________________________________________\n",
            "max_pooling2d_17 (MaxPooling (None, 36, 36, 64)        0         \n",
            "_________________________________________________________________\n",
            "conv2d_18 (Conv2D)           (None, 34, 34, 128)       73856     \n",
            "_________________________________________________________________\n",
            "max_pooling2d_18 (MaxPooling (None, 17, 17, 128)       0         \n",
            "_________________________________________________________________\n",
            "conv2d_19 (Conv2D)           (None, 15, 15, 128)       147584    \n",
            "_________________________________________________________________\n",
            "max_pooling2d_19 (MaxPooling (None, 7, 7, 128)         0         \n",
            "_________________________________________________________________\n",
            "flatten_4 (Flatten)          (None, 6272)              0         \n",
            "_________________________________________________________________\n",
            "dense_10 (Dense)             (None, 512)               3211776   \n",
            "_________________________________________________________________\n",
            "dropout_5 (Dropout)          (None, 512)               0         \n",
            "_________________________________________________________________\n",
            "dense_11 (Dense)             (None, 128)               65664     \n",
            "_________________________________________________________________\n",
            "dropout_6 (Dropout)          (None, 128)               0         \n",
            "_________________________________________________________________\n",
            "dense_12 (Dense)             (None, 64)                8256      \n",
            "_________________________________________________________________\n",
            "dropout_7 (Dropout)          (None, 64)                0         \n",
            "_________________________________________________________________\n",
            "dense_13 (Dense)             (None, 1)                 65        \n",
            "=================================================================\n",
            "Total params: 3,526,593\n",
            "Trainable params: 3,526,593\n",
            "Non-trainable params: 0\n",
            "_________________________________________________________________\n",
            "None\n"
          ],
          "name": "stdout"
        }
      ]
    },
    {
      "cell_type": "code",
      "metadata": {
        "colab": {
          "base_uri": "https://localhost:8080/"
        },
        "id": "Ht9ywYXP-tpE",
        "outputId": "110cec34-5fd9-4ce5-bb41-33944874b68b"
      },
      "source": [
        "train_datagen = ImageDataGenerator(rescale=1./255,\n",
        "                                   rotation_range=40,\n",
        "                                   width_shift_range=0.2,\n",
        "                                   height_shift_range=0.2,\n",
        "                                   shear_range=0.2,\n",
        "                                   zoom_range=0.2,\n",
        "                                   horizontal_flip=True,)\n",
        "\n",
        "test_datagen = ImageDataGenerator(rescale=1./255)\n",
        "\n",
        "train_generator = train_datagen.flow_from_directory(train_dir,\n",
        "                                                    target_size=(150, 150),\n",
        "                                                    batch_size=16,\n",
        "                                                    class_mode='binary')\n",
        "\n",
        "validation_generator = test_datagen.flow_from_directory(validation_dir,\n",
        "                                                        target_size=(150, 150),\n",
        "                                                        batch_size=16,\n",
        "                                                        class_mode='binary')"
      ],
      "execution_count": null,
      "outputs": [
        {
          "output_type": "stream",
          "text": [
            "Found 2000 images belonging to 2 classes.\n",
            "Found 1000 images belonging to 2 classes.\n"
          ],
          "name": "stdout"
        }
      ]
    },
    {
      "cell_type": "code",
      "metadata": {
        "colab": {
          "base_uri": "https://localhost:8080/"
        },
        "id": "mM-0utmk-y_G",
        "outputId": "72f996c5-42d1-4b96-d1d7-0dc0a327f413"
      },
      "source": [
        "history = model.fit(train_generator,\n",
        "                    steps_per_epoch=100,\n",
        "                              epochs=30,\n",
        "                              validation_data=validation_generator,\n",
        "                              validation_steps=50)"
      ],
      "execution_count": null,
      "outputs": [
        {
          "output_type": "stream",
          "text": [
            "Epoch 1/30\n",
            "100/100 [==============================] - 15s 138ms/step - loss: 0.6987 - acc: 0.4797 - val_loss: 0.6919 - val_acc: 0.5075\n",
            "Epoch 2/30\n",
            "100/100 [==============================] - 13s 135ms/step - loss: 0.6923 - acc: 0.5218 - val_loss: 0.6899 - val_acc: 0.5075\n",
            "Epoch 3/30\n",
            "100/100 [==============================] - 13s 134ms/step - loss: 0.6950 - acc: 0.5239 - val_loss: 0.6849 - val_acc: 0.5938\n",
            "Epoch 4/30\n",
            "100/100 [==============================] - 14s 136ms/step - loss: 0.6881 - acc: 0.5529 - val_loss: 0.6815 - val_acc: 0.5475\n",
            "Epoch 5/30\n",
            "100/100 [==============================] - 13s 134ms/step - loss: 0.6842 - acc: 0.5452 - val_loss: 0.6598 - val_acc: 0.5888\n",
            "Epoch 6/30\n",
            "100/100 [==============================] - 14s 136ms/step - loss: 0.6707 - acc: 0.5878 - val_loss: 0.6354 - val_acc: 0.6363\n",
            "Epoch 7/30\n",
            "100/100 [==============================] - 13s 135ms/step - loss: 0.6601 - acc: 0.6071 - val_loss: 0.6143 - val_acc: 0.6625\n",
            "Epoch 8/30\n",
            "100/100 [==============================] - 13s 133ms/step - loss: 0.6444 - acc: 0.6197 - val_loss: 0.6129 - val_acc: 0.6425\n",
            "Epoch 9/30\n",
            "100/100 [==============================] - 13s 134ms/step - loss: 0.6415 - acc: 0.6388 - val_loss: 0.5981 - val_acc: 0.6787\n",
            "Epoch 10/30\n",
            "100/100 [==============================] - 13s 133ms/step - loss: 0.6245 - acc: 0.6652 - val_loss: 0.5780 - val_acc: 0.6675\n",
            "Epoch 11/30\n",
            "100/100 [==============================] - 13s 135ms/step - loss: 0.6409 - acc: 0.6664 - val_loss: 0.5906 - val_acc: 0.6812\n",
            "Epoch 12/30\n",
            "100/100 [==============================] - 13s 134ms/step - loss: 0.5974 - acc: 0.6829 - val_loss: 0.5646 - val_acc: 0.7212\n",
            "Epoch 13/30\n",
            "100/100 [==============================] - 14s 136ms/step - loss: 0.6055 - acc: 0.6667 - val_loss: 0.5815 - val_acc: 0.6950\n",
            "Epoch 14/30\n",
            "100/100 [==============================] - 14s 136ms/step - loss: 0.6006 - acc: 0.6897 - val_loss: 0.5630 - val_acc: 0.7237\n",
            "Epoch 15/30\n",
            "100/100 [==============================] - 13s 134ms/step - loss: 0.6100 - acc: 0.6930 - val_loss: 0.5399 - val_acc: 0.7287\n",
            "Epoch 16/30\n",
            "100/100 [==============================] - 14s 135ms/step - loss: 0.5860 - acc: 0.6784 - val_loss: 0.5392 - val_acc: 0.7287\n",
            "Epoch 17/30\n",
            "100/100 [==============================] - 13s 133ms/step - loss: 0.5671 - acc: 0.7050 - val_loss: 0.5410 - val_acc: 0.7300\n",
            "Epoch 18/30\n",
            "100/100 [==============================] - 13s 134ms/step - loss: 0.5862 - acc: 0.7024 - val_loss: 0.5422 - val_acc: 0.7312\n",
            "Epoch 19/30\n",
            "100/100 [==============================] - 14s 136ms/step - loss: 0.5632 - acc: 0.7133 - val_loss: 0.5349 - val_acc: 0.7387\n",
            "Epoch 20/30\n",
            "100/100 [==============================] - 13s 135ms/step - loss: 0.5538 - acc: 0.7337 - val_loss: 0.5165 - val_acc: 0.7287\n",
            "Epoch 21/30\n",
            "100/100 [==============================] - 13s 134ms/step - loss: 0.5599 - acc: 0.7115 - val_loss: 0.5300 - val_acc: 0.7563\n",
            "Epoch 22/30\n",
            "100/100 [==============================] - 13s 133ms/step - loss: 0.5574 - acc: 0.7104 - val_loss: 0.5206 - val_acc: 0.7287\n",
            "Epoch 23/30\n",
            "100/100 [==============================] - 13s 134ms/step - loss: 0.5472 - acc: 0.7176 - val_loss: 0.5295 - val_acc: 0.7375\n",
            "Epoch 24/30\n",
            "100/100 [==============================] - 13s 134ms/step - loss: 0.5459 - acc: 0.7407 - val_loss: 0.5219 - val_acc: 0.7350\n",
            "Epoch 25/30\n",
            "100/100 [==============================] - 13s 135ms/step - loss: 0.5224 - acc: 0.7296 - val_loss: 0.5285 - val_acc: 0.7450\n",
            "Epoch 26/30\n",
            "100/100 [==============================] - 13s 135ms/step - loss: 0.5525 - acc: 0.7174 - val_loss: 0.5146 - val_acc: 0.7387\n",
            "Epoch 27/30\n",
            "100/100 [==============================] - 13s 135ms/step - loss: 0.5256 - acc: 0.7341 - val_loss: 0.4951 - val_acc: 0.7625\n",
            "Epoch 28/30\n",
            "100/100 [==============================] - 13s 133ms/step - loss: 0.5413 - acc: 0.7185 - val_loss: 0.5347 - val_acc: 0.7412\n",
            "Epoch 29/30\n",
            "100/100 [==============================] - 13s 133ms/step - loss: 0.5326 - acc: 0.7474 - val_loss: 0.4779 - val_acc: 0.7713\n",
            "Epoch 30/30\n",
            "100/100 [==============================] - 13s 133ms/step - loss: 0.5148 - acc: 0.7404 - val_loss: 0.5932 - val_acc: 0.7325\n"
          ],
          "name": "stdout"
        }
      ]
    },
    {
      "cell_type": "code",
      "metadata": {
        "colab": {
          "base_uri": "https://localhost:8080/"
        },
        "id": "duJ8nXQvBVNH",
        "outputId": "7f315fc2-fb09-4448-b20c-c3b73fdad972"
      },
      "source": [
        "print('Accuracy of model: ',max(history.history[\"val_acc\"]))"
      ],
      "execution_count": null,
      "outputs": [
        {
          "output_type": "stream",
          "text": [
            "Accuracy of model:  0.7712500095367432\n"
          ],
          "name": "stdout"
        }
      ]
    },
    {
      "cell_type": "code",
      "metadata": {
        "colab": {
          "base_uri": "https://localhost:8080/",
          "height": 545
        },
        "id": "-8_jT01OBOy1",
        "outputId": "4bf621ea-66d4-4fd6-9d5e-be8790757c89"
      },
      "source": [
        "model.save('cats_and_dogs_best_model.h5')\n",
        "\n",
        "import matplotlib.pyplot as plt\n",
        "\n",
        "acc = history.history['acc']\n",
        "val_acc = history.history['val_acc']\n",
        "loss = history.history['loss']\n",
        "val_loss = history.history['val_loss']\n",
        "\n",
        "epochs = range(1, len(acc) + 1)\n",
        "\n",
        "plt.plot(epochs, acc, 'bo', label='Training acc')\n",
        "plt.plot(epochs, val_acc, 'b', label='Validation acc')\n",
        "plt.title('Training and validation accuracy')\n",
        "plt.legend()\n",
        "\n",
        "plt.figure()\n",
        "\n",
        "plt.plot(epochs, loss, 'bo', label='Training loss')\n",
        "plt.plot(epochs, val_loss, 'b', label='Validation loss')\n",
        "plt.title('Training and validation loss')\n",
        "plt.legend()\n",
        "\n",
        "plt.show()"
      ],
      "execution_count": null,
      "outputs": [
        {
          "output_type": "display_data",
          "data": {
            "image/png": "[encoded data removed]",
            "text/plain": [
              "<Figure size 432x288 with 1 Axes>"
            ]
          },
          "metadata": {
            "tags": [],
            "needs_background": "light"
          }
        },
        {
          "output_type": "display_data",
          "data": {
            "image/png": "[encoded data removed]",
            "text/plain": [
              "<Figure size 432x288 with 1 Axes>"
            ]
          },
          "metadata": {
            "tags": [],
            "needs_background": "light"
          }
        }
      ]
    }
  ]
}
