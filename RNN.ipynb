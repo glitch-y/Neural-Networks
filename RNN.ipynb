{
  "nbformat": 4,
  "nbformat_minor": 0,
  "metadata": {
    "accelerator": "GPU",
    "colab": {
      "name": "Exercise_3_RNN.ipynb",
      "provenance": [],
      "collapsed_sections": [],
      "include_colab_link": true
    },
    "kernelspec": {
      "display_name": "Python 3",
      "language": "python",
      "name": "python3"
    },
    "language_info": {
      "codemirror_mode": {
        "name": "ipython",
        "version": 3
      },
      "file_extension": ".py",
      "mimetype": "text/x-python",
      "name": "python",
      "nbconvert_exporter": "python",
      "pygments_lexer": "ipython3",
      "version": "3.6.5"
    }
  },
  "cells": [
    {
      "cell_type": "markdown",
      "metadata": {
        "id": "view-in-github",
        "colab_type": "text"
      },
      "source": [
        "<a href=\"https://colab.research.google.com/github/glitch-y/Neural-Networks/blob/main/RNN.ipynb\" target=\"_parent\"><img src=\"https://colab.research.google.com/assets/colab-badge.svg\" alt=\"Open In Colab\"/></a>"
      ]
    },
    {
      "cell_type": "code",
      "metadata": {
        "colab": {
          "base_uri": "https://localhost:8080/",
          "height": 37
        },
        "id": "2OEAdhW0qjg9",
        "outputId": "11c2f825-73ba-4ac6-9382-30feadfcd1d2"
      },
      "source": [
        "import keras\n",
        "keras.__version__"
      ],
      "execution_count": null,
      "outputs": [
        {
          "output_type": "execute_result",
          "data": {
            "application/vnd.google.colaboratory.intrinsic+json": {
              "type": "string"
            },
            "text/plain": [
              "'2.4.3'"
            ]
          },
          "metadata": {
            "tags": []
          },
          "execution_count": 1
        }
      ]
    },
    {
      "cell_type": "code",
      "metadata": {
        "colab": {
          "base_uri": "https://localhost:8080/"
        },
        "id": "TYsNtFxgqjhC",
        "outputId": "0c378971-4692-40e5-f0e6-bd44e5b6c8db"
      },
      "source": [
        "from keras.preprocessing.text import Tokenizer\n",
        "samples = ['The cat sat on the mat.', 'The dog ate my homework.']\n",
        "\n",
        "# We create a tokenizer, configured to only take into account the top-1000 most common words\n",
        "tokenizer = Tokenizer(num_words=1000)\n",
        "\n",
        "# This builds the word index\n",
        "tokenizer.fit_on_texts(samples)\n",
        "\n",
        "# This turns strings into lists of integer indices.\n",
        "sequences = tokenizer.texts_to_sequences(samples)\n",
        "\n",
        "# You could also directly get the one-hot binary representations.\n",
        "# Note that other vectorization modes than one-hot encoding are supported!\n",
        "one_hot_results = tokenizer.texts_to_matrix(samples, mode='binary')\n",
        "\n",
        "# This is how you can recover the word index that was computed\n",
        "word_index = tokenizer.word_index\n",
        "print('Found %s unique tokens.' % len(word_index))"
      ],
      "execution_count": null,
      "outputs": [
        {
          "output_type": "stream",
          "text": [
            "Found 9 unique tokens.\n"
          ],
          "name": "stdout"
        }
      ]
    },
    {
      "cell_type": "code",
      "metadata": {
        "colab": {
          "base_uri": "https://localhost:8080/"
        },
        "id": "_1bFuvqKqjhF",
        "outputId": "cc370637-2f12-4e45-8d54-43f18f8b6cf3"
      },
      "source": [
        "one_hot_results"
      ],
      "execution_count": null,
      "outputs": [
        {
          "output_type": "execute_result",
          "data": {
            "text/plain": [
              "array([[0., 1., 1., ..., 0., 0., 0.],\n",
              "       [0., 1., 0., ..., 0., 0., 0.]])"
            ]
          },
          "metadata": {
            "tags": []
          },
          "execution_count": 3
        }
      ]
    },
    {
      "cell_type": "markdown",
      "metadata": {
        "id": "95o1mdJkqjhI"
      },
      "source": [
        "Using word-embeddings "
      ]
    },
    {
      "cell_type": "code",
      "metadata": {
        "colab": {
          "base_uri": "https://localhost:8080/"
        },
        "id": "DSAIqfdoqjhJ",
        "outputId": "8edf47eb-6b5e-442b-b134-d4c287632d2e"
      },
      "source": [
        "from keras.datasets import imdb\n",
        "from keras.preprocessing import sequence\n",
        "\n",
        "max_features = 10000\n",
        "maxlen = 500\n",
        "batch_size = 32\n",
        "print('Loading data...')\n",
        "(input_train, y_train), (input_test, y_test) = imdb.load_data(num_words=max_features)\n",
        "print(len(input_train), 'train sequences')\n",
        "print(len(input_test), 'test sequences')\n",
        "print('Pad sequences (samples x time)')\n",
        "input_train = sequence.pad_sequences(input_train, maxlen=maxlen)\n",
        "input_test = sequence.pad_sequences(input_test, maxlen=maxlen)\n",
        "print('input_train shape:', input_train.shape)\n",
        "print('input_test shape:', input_test.shape)"
      ],
      "execution_count": null,
      "outputs": [
        {
          "output_type": "stream",
          "text": [
            "Loading data...\n",
            "Downloading data from https://storage.googleapis.com/tensorflow/tf-keras-datasets/imdb.npz\n",
            "17465344/17464789 [==============================] - 0s 0us/step\n"
          ],
          "name": "stdout"
        },
        {
          "output_type": "stream",
          "text": [
            "<string>:6: VisibleDeprecationWarning: Creating an ndarray from ragged nested sequences (which is a list-or-tuple of lists-or-tuples-or ndarrays with different lengths or shapes) is deprecated. If you meant to do this, you must specify 'dtype=object' when creating the ndarray\n",
            "/usr/local/lib/python3.7/dist-packages/tensorflow/python/keras/datasets/imdb.py:159: VisibleDeprecationWarning: Creating an ndarray from ragged nested sequences (which is a list-or-tuple of lists-or-tuples-or ndarrays with different lengths or shapes) is deprecated. If you meant to do this, you must specify 'dtype=object' when creating the ndarray\n",
            "  x_train, y_train = np.array(xs[:idx]), np.array(labels[:idx])\n",
            "/usr/local/lib/python3.7/dist-packages/tensorflow/python/keras/datasets/imdb.py:160: VisibleDeprecationWarning: Creating an ndarray from ragged nested sequences (which is a list-or-tuple of lists-or-tuples-or ndarrays with different lengths or shapes) is deprecated. If you meant to do this, you must specify 'dtype=object' when creating the ndarray\n",
            "  x_test, y_test = np.array(xs[idx:]), np.array(labels[idx:])\n"
          ],
          "name": "stderr"
        },
        {
          "output_type": "stream",
          "text": [
            "25000 train sequences\n",
            "25000 test sequences\n",
            "Pad sequences (samples x time)\n",
            "input_train shape: (25000, 500)\n",
            "input_test shape: (25000, 500)\n"
          ],
          "name": "stdout"
        }
      ]
    },
    {
      "cell_type": "markdown",
      "metadata": {
        "id": "5ssh97qDqjhM"
      },
      "source": [
        "### Training the model with Embedding and SimpleRNN layers"
      ]
    },
    {
      "cell_type": "code",
      "metadata": {
        "colab": {
          "base_uri": "https://localhost:8080/"
        },
        "id": "t_lIlBilqjhN",
        "outputId": "be45211e-a41c-4418-c6e4-4afdef3f00ae"
      },
      "source": [
        "from keras.layers import Dense\n",
        "from keras.layers import Embedding, SimpleRNN\n",
        "from keras.models import Sequential\n",
        "\n",
        "model = Sequential()\n",
        "model.add(Embedding(max_features, 32))\n",
        "model.add(SimpleRNN(32))\n",
        "model.add(Dense(1, activation='sigmoid'))\n",
        "model.summary()\n",
        "model.compile(optimizer='rmsprop', loss='binary_crossentropy', metrics=['acc'])\n",
        "history = model.fit(input_train, y_train, \n",
        "                    epochs=10,\n",
        "                    batch_size=128,\n",
        "                    validation_split=0.2)\n"
      ],
      "execution_count": null,
      "outputs": [
        {
          "output_type": "stream",
          "text": [
            "Model: \"sequential\"\n",
            "_________________________________________________________________\n",
            "Layer (type)                 Output Shape              Param #   \n",
            "=================================================================\n",
            "embedding (Embedding)        (None, None, 32)          320000    \n",
            "_________________________________________________________________\n",
            "simple_rnn (SimpleRNN)       (None, 32)                2080      \n",
            "_________________________________________________________________\n",
            "dense (Dense)                (None, 1)                 33        \n",
            "=================================================================\n",
            "Total params: 322,113\n",
            "Trainable params: 322,113\n",
            "Non-trainable params: 0\n",
            "_________________________________________________________________\n",
            "Epoch 1/10\n",
            "157/157 [==============================] - 50s 305ms/step - loss: 0.6328 - acc: 0.6331 - val_loss: 0.4428 - val_acc: 0.8122\n",
            "Epoch 2/10\n",
            "157/157 [==============================] - 47s 301ms/step - loss: 0.3790 - acc: 0.8479 - val_loss: 0.3873 - val_acc: 0.8366\n",
            "Epoch 3/10\n",
            "157/157 [==============================] - 48s 303ms/step - loss: 0.2847 - acc: 0.8925 - val_loss: 0.4411 - val_acc: 0.8008\n",
            "Epoch 4/10\n",
            "157/157 [==============================] - 48s 306ms/step - loss: 0.2225 - acc: 0.9180 - val_loss: 0.3456 - val_acc: 0.8662\n",
            "Epoch 5/10\n",
            "157/157 [==============================] - 48s 303ms/step - loss: 0.1710 - acc: 0.9390 - val_loss: 0.3648 - val_acc: 0.8664\n",
            "Epoch 6/10\n",
            "157/157 [==============================] - 48s 303ms/step - loss: 0.1225 - acc: 0.9586 - val_loss: 0.4394 - val_acc: 0.8510\n",
            "Epoch 7/10\n",
            "157/157 [==============================] - 47s 302ms/step - loss: 0.0788 - acc: 0.9747 - val_loss: 0.4945 - val_acc: 0.8608\n",
            "Epoch 8/10\n",
            "157/157 [==============================] - 47s 300ms/step - loss: 0.0656 - acc: 0.9793 - val_loss: 0.4678 - val_acc: 0.8464\n",
            "Epoch 9/10\n",
            "157/157 [==============================] - 47s 301ms/step - loss: 0.0358 - acc: 0.9900 - val_loss: 0.5192 - val_acc: 0.8386\n",
            "Epoch 10/10\n",
            "157/157 [==============================] - 48s 304ms/step - loss: 0.0239 - acc: 0.9941 - val_loss: 0.5674 - val_acc: 0.8264\n"
          ],
          "name": "stdout"
        }
      ]
    },
    {
      "cell_type": "code",
      "metadata": {
        "colab": {
          "base_uri": "https://localhost:8080/",
          "height": 545
        },
        "id": "w03gEZ2RqjhQ",
        "outputId": "cb37338f-3b69-4089-84be-95a669c2f73c"
      },
      "source": [
        "import matplotlib.pyplot as plt\n",
        "\n",
        "acc = history.history['acc']\n",
        "val_acc = history.history['val_acc']\n",
        "loss = history.history['loss']\n",
        "val_loss = history.history['val_loss']\n",
        "\n",
        "epochs = range(1, len(acc) + 1)\n",
        "\n",
        "plt.plot(epochs, acc, 'bo', label='Training acc')\n",
        "plt.plot(epochs, val_acc, 'b', label='Validation acc')\n",
        "plt.title('Training and validation accuracy')\n",
        "plt.legend()\n",
        "\n",
        "plt.figure()\n",
        "\n",
        "plt.plot(epochs, loss, 'bo', label='Training loss')\n",
        "plt.plot(epochs, val_loss, 'b', label='Validation loss')\n",
        "plt.title('Training and validation loss')\n",
        "plt.legend()\n",
        "\n",
        "plt.show()"
      ],
      "execution_count": null,
      "outputs": [
        {
          "output_type": "display_data",
          "data": {
            "image/png": "[encoded data removed]",
            "text/plain": [
              "<Figure size 432x288 with 1 Axes>"
            ]
          },
          "metadata": {
            "tags": [],
            "needs_background": "light"
          }
        },
        {
          "output_type": "display_data",
          "data": {
            "image/png": "[encoded data removed]",
            "text/plain": [
              "<Figure size 432x288 with 1 Axes>"
            ]
          },
          "metadata": {
            "tags": [],
            "needs_background": "light"
          }
        }
      ]
    },
    {
      "cell_type": "markdown",
      "metadata": {
        "id": "mz8CfgKcqjhT"
      },
      "source": [
        "### Training the model with Embedding and SimpleRNN layers"
      ]
    },
    {
      "cell_type": "code",
      "metadata": {
        "colab": {
          "base_uri": "https://localhost:8080/"
        },
        "id": "U_wjH-KGqjhU",
        "outputId": "46841c8c-3600-4218-de5d-b79e267140df"
      },
      "source": [
        "from keras.layers import LSTM\n",
        "\n",
        "model = Sequential()\n",
        "model.add(Embedding(max_features, 32))\n",
        "model.add(LSTM(32))\n",
        "model.add(Dense(1, activation='sigmoid'))\n",
        "model.compile(optimizer='rmsprop',\n",
        "loss='binary_crossentropy',\n",
        "metrics=['acc'])\n",
        "history = model.fit(input_train, y_train,\n",
        "                    epochs=10,\n",
        "                    batch_size=128,\n",
        "                    validation_split=0.2)"
      ],
      "execution_count": null,
      "outputs": [
        {
          "output_type": "stream",
          "text": [
            "Epoch 1/10\n",
            "157/157 [==============================] - 20s 31ms/step - loss: 0.6215 - acc: 0.6477 - val_loss: 0.3981 - val_acc: 0.8386\n",
            "Epoch 2/10\n",
            "157/157 [==============================] - 5s 29ms/step - loss: 0.3109 - acc: 0.8778 - val_loss: 0.3100 - val_acc: 0.8710\n",
            "Epoch 3/10\n",
            "157/157 [==============================] - 5s 29ms/step - loss: 0.2295 - acc: 0.9126 - val_loss: 0.3040 - val_acc: 0.8720\n",
            "Epoch 4/10\n",
            "157/157 [==============================] - 5s 30ms/step - loss: 0.1978 - acc: 0.9270 - val_loss: 0.3943 - val_acc: 0.8544\n",
            "Epoch 5/10\n",
            "157/157 [==============================] - 5s 30ms/step - loss: 0.1758 - acc: 0.9381 - val_loss: 0.3055 - val_acc: 0.8812\n",
            "Epoch 6/10\n",
            "157/157 [==============================] - 5s 30ms/step - loss: 0.1524 - acc: 0.9483 - val_loss: 0.5107 - val_acc: 0.8508\n",
            "Epoch 7/10\n",
            "157/157 [==============================] - 5s 30ms/step - loss: 0.1601 - acc: 0.9452 - val_loss: 0.3070 - val_acc: 0.8802\n",
            "Epoch 8/10\n",
            "157/157 [==============================] - 5s 30ms/step - loss: 0.1264 - acc: 0.9572 - val_loss: 0.3509 - val_acc: 0.8880\n",
            "Epoch 9/10\n",
            "157/157 [==============================] - 5s 30ms/step - loss: 0.1147 - acc: 0.9593 - val_loss: 0.3244 - val_acc: 0.8820\n",
            "Epoch 10/10\n",
            "157/157 [==============================] - 5s 29ms/step - loss: 0.1068 - acc: 0.9622 - val_loss: 0.3477 - val_acc: 0.8816\n"
          ],
          "name": "stdout"
        }
      ]
    },
    {
      "cell_type": "code",
      "metadata": {
        "colab": {
          "base_uri": "https://localhost:8080/",
          "height": 545
        },
        "id": "HU4eGq-DqjhX",
        "outputId": "cbbee928-cbdb-494e-89ad-613cba1f21bd"
      },
      "source": [
        "import matplotlib.pyplot as plt\n",
        "\n",
        "acc = history.history['acc']\n",
        "val_acc = history.history['val_acc']\n",
        "loss = history.history['loss']\n",
        "val_loss = history.history['val_loss']\n",
        "\n",
        "epochs = range(1, len(acc) + 1)\n",
        "\n",
        "plt.plot(epochs, acc, 'bo', label='Training acc')\n",
        "plt.plot(epochs, val_acc, 'b', label='Validation acc')\n",
        "plt.title('Training and validation accuracy')\n",
        "plt.legend()\n",
        "\n",
        "plt.figure()\n",
        "\n",
        "plt.plot(epochs, loss, 'bo', label='Training loss')\n",
        "plt.plot(epochs, val_loss, 'b', label='Validation loss')\n",
        "plt.title('Training and validation loss')\n",
        "plt.legend()\n",
        "\n",
        "plt.show()"
      ],
      "execution_count": null,
      "outputs": [
        {
          "output_type": "display_data",
          "data": {
            "image/png": "[encoded data removed]",
            "text/plain": [
              "<Figure size 432x288 with 1 Axes>"
            ]
          },
          "metadata": {
            "tags": [],
            "needs_background": "light"
          }
        },
        {
          "output_type": "display_data",
          "data": {
            "image/png": "[encoded data removed]",
            "text/plain": [
              "<Figure size 432x288 with 1 Axes>"
            ]
          },
          "metadata": {
            "tags": [],
            "needs_background": "light"
          }
        }
      ]
    },
    {
      "cell_type": "markdown",
      "metadata": {
        "id": "r69U5tFUZ82R"
      },
      "source": [
        "We can see that the LSTM model in the code below has an average error of about 23 passengers (in thousands) on the training dataset, and about 48 passengers (in thousands) on the test dataset.\n",
        "\n",
        "#### Dataset Description\n",
        "The problem we are going to look at in this post is the International Airline Passengers prediction problem.\n",
        "This is a problem where, given a year and a month, the task is to predict the number of international airline passengers in units of 1,000. The data ranges from January 1949 to December 1960, or 12 years, with 144 observations.\n",
        "\n"
      ]
    },
    {
      "cell_type": "code",
      "metadata": {
        "colab": {
          "base_uri": "https://localhost:8080/",
          "height": 1000
        },
        "id": "w1vSusoyatCW",
        "outputId": "c60586d3-4b7b-49a0-a331-df83b4a3a6d1"
      },
      "source": [
        "import numpy\n",
        "import math\n",
        "import matplotlib.pyplot as plt\n",
        "from pandas import read_csv\n",
        "from keras.models import Sequential\n",
        "from keras.layers import Dense\n",
        "from keras.layers import LSTM\n",
        "from sklearn.preprocessing import MinMaxScaler\n",
        "from sklearn.metrics import mean_squared_error\n",
        "# convert an array of values into a dataset matrix\n",
        "def create_dataset(dataset, look_back=1):\n",
        "\tdataX, dataY = [], []\n",
        "\tfor i in range(len(dataset)-look_back-1):\n",
        "\t\ta = dataset[i:(i+look_back), 0]\n",
        "\t\tdataX.append(a)\n",
        "\t\tdataY.append(dataset[i + look_back, 0])\n",
        "\treturn numpy.array(dataX), numpy.array(dataY)\n",
        "# fix random seed for reproducibility\n",
        "numpy.random.seed(7)\n",
        "# load the dataset\n",
        "dataframe = read_csv('https://raw.githubusercontent.com/jbrownlee/Datasets/master/airline-passengers.csv', usecols=[1], engine='python')\n",
        "dataset = dataframe.values\n",
        "dataset = dataset.astype('float32')\n",
        "# normalize the dataset\n",
        "scaler = MinMaxScaler(feature_range=(0, 1))\n",
        "dataset = scaler.fit_transform(dataset)\n",
        "# split into train and test sets\n",
        "train_size = int(len(dataset) * 0.67)\n",
        "test_size = len(dataset) - train_size\n",
        "train, test = dataset[0:train_size,:], dataset[train_size:len(dataset),:]\n",
        "# reshape into X=t and Y=t+1\n",
        "look_back = 1\n",
        "trainX, trainY = create_dataset(train, look_back)\n",
        "testX, testY = create_dataset(test, look_back)\n",
        "# reshape input to be [samples, time steps, features]\n",
        "trainX = numpy.reshape(trainX, (trainX.shape[0], 1, trainX.shape[1]))\n",
        "testX = numpy.reshape(testX, (testX.shape[0], 1, testX.shape[1]))\n",
        "# create and fit the LSTM network\n",
        "model = Sequential()\n",
        "model.add(LSTM(4, input_shape=(1, look_back)))\n",
        "model.add(Dense(1))\n",
        "model.compile(loss='binary_crossentropy', optimizer='adam')\n",
        "model.fit(trainX, trainY, epochs=100, batch_size=1, verbose=2)\n",
        "# make predictions\n",
        "trainPredict = model.predict(trainX)\n",
        "testPredict = model.predict(testX)\n",
        "# invert predictions\n",
        "trainPredict = scaler.inverse_transform(trainPredict)\n",
        "trainY = scaler.inverse_transform([trainY])\n",
        "testPredict = scaler.inverse_transform(testPredict)\n",
        "testY = scaler.inverse_transform([testY])\n",
        "# calculate root mean squared error\n",
        "trainScore = math.sqrt(mean_squared_error(trainY[0], trainPredict[:,0]))\n",
        "print('Train Score: %.2f RMSE' % (trainScore))\n",
        "testScore = math.sqrt(mean_squared_error(testY[0], testPredict[:,0]))\n",
        "print('Test Score: %.2f RMSE' % (testScore))\n",
        "# shift train predictions for plotting\n",
        "trainPredictPlot = numpy.empty_like(dataset)\n",
        "trainPredictPlot[:, :] = numpy.nan\n",
        "trainPredictPlot[look_back:len(trainPredict)+look_back, :] = trainPredict\n",
        "# shift test predictions for plotting\n",
        "testPredictPlot = numpy.empty_like(dataset)\n",
        "testPredictPlot[:, :] = numpy.nan\n",
        "testPredictPlot[len(trainPredict)+(look_back*2)+1:len(dataset)-1, :] = testPredict\n",
        "# plot baseline and predictions\n",
        "plt.plot(scaler.inverse_transform(dataset))\n",
        "plt.plot(trainPredictPlot)\n",
        "plt.plot(testPredictPlot)\n",
        "plt.show()"
      ],
      "execution_count": null,
      "outputs": [
        {
          "output_type": "stream",
          "text": [
            "Epoch 1/100\n",
            "94/94 - 1s - loss: 0.6560\n",
            "Epoch 2/100\n",
            "94/94 - 0s - loss: 0.5393\n",
            "Epoch 3/100\n",
            "94/94 - 0s - loss: 0.5126\n",
            "Epoch 4/100\n",
            "94/94 - 0s - loss: 0.5032\n",
            "Epoch 5/100\n",
            "94/94 - 0s - loss: 0.4994\n",
            "Epoch 6/100\n",
            "94/94 - 0s - loss: 0.4972\n",
            "Epoch 7/100\n",
            "94/94 - 0s - loss: 0.4953\n",
            "Epoch 8/100\n",
            "94/94 - 0s - loss: 0.4936\n",
            "Epoch 9/100\n",
            "94/94 - 0s - loss: 0.4917\n",
            "Epoch 10/100\n",
            "94/94 - 0s - loss: 0.4900\n",
            "Epoch 11/100\n",
            "94/94 - 0s - loss: 0.4877\n",
            "Epoch 12/100\n",
            "94/94 - 0s - loss: 0.4856\n",
            "Epoch 13/100\n",
            "94/94 - 0s - loss: 0.4834\n",
            "Epoch 14/100\n",
            "94/94 - 0s - loss: 0.4814\n",
            "Epoch 15/100\n",
            "94/94 - 0s - loss: 0.4791\n",
            "Epoch 16/100\n",
            "94/94 - 0s - loss: 0.4769\n",
            "Epoch 17/100\n",
            "94/94 - 0s - loss: 0.4750\n",
            "Epoch 18/100\n",
            "94/94 - 0s - loss: 0.4730\n",
            "Epoch 19/100\n",
            "94/94 - 0s - loss: 0.4712\n",
            "Epoch 20/100\n",
            "94/94 - 0s - loss: 0.4696\n",
            "Epoch 21/100\n",
            "94/94 - 0s - loss: 0.4684\n",
            "Epoch 22/100\n",
            "94/94 - 0s - loss: 0.4674\n",
            "Epoch 23/100\n",
            "94/94 - 0s - loss: 0.4665\n",
            "Epoch 24/100\n",
            "94/94 - 0s - loss: 0.4659\n",
            "Epoch 25/100\n",
            "94/94 - 0s - loss: 0.4657\n",
            "Epoch 26/100\n",
            "94/94 - 0s - loss: 0.4654\n",
            "Epoch 27/100\n",
            "94/94 - 0s - loss: 0.4654\n",
            "Epoch 28/100\n",
            "94/94 - 0s - loss: 0.4653\n",
            "Epoch 29/100\n",
            "94/94 - 0s - loss: 0.4654\n",
            "Epoch 30/100\n",
            "94/94 - 0s - loss: 0.4654\n",
            "Epoch 31/100\n",
            "94/94 - 0s - loss: 0.4654\n",
            "Epoch 32/100\n",
            "94/94 - 0s - loss: 0.4653\n",
            "Epoch 33/100\n",
            "94/94 - 0s - loss: 0.4651\n",
            "Epoch 34/100\n",
            "94/94 - 0s - loss: 0.4654\n",
            "Epoch 35/100\n",
            "94/94 - 0s - loss: 0.4654\n",
            "Epoch 36/100\n",
            "94/94 - 0s - loss: 0.4654\n",
            "Epoch 37/100\n",
            "94/94 - 0s - loss: 0.4653\n",
            "Epoch 38/100\n",
            "94/94 - 0s - loss: 0.4651\n",
            "Epoch 39/100\n",
            "94/94 - 0s - loss: 0.4653\n",
            "Epoch 40/100\n",
            "94/94 - 0s - loss: 0.4654\n",
            "Epoch 41/100\n",
            "94/94 - 0s - loss: 0.4652\n",
            "Epoch 42/100\n",
            "94/94 - 0s - loss: 0.4652\n",
            "Epoch 43/100\n",
            "94/94 - 0s - loss: 0.4652\n",
            "Epoch 44/100\n",
            "94/94 - 0s - loss: 0.4652\n",
            "Epoch 45/100\n",
            "94/94 - 0s - loss: 0.4654\n",
            "Epoch 46/100\n",
            "94/94 - 0s - loss: 0.4652\n",
            "Epoch 47/100\n",
            "94/94 - 0s - loss: 0.4654\n",
            "Epoch 48/100\n",
            "94/94 - 0s - loss: 0.4654\n",
            "Epoch 49/100\n",
            "94/94 - 0s - loss: 0.4651\n",
            "Epoch 50/100\n",
            "94/94 - 0s - loss: 0.4655\n",
            "Epoch 51/100\n",
            "94/94 - 0s - loss: 0.4654\n",
            "Epoch 52/100\n",
            "94/94 - 0s - loss: 0.4652\n",
            "Epoch 53/100\n",
            "94/94 - 0s - loss: 0.4654\n",
            "Epoch 54/100\n",
            "94/94 - 0s - loss: 0.4653\n",
            "Epoch 55/100\n",
            "94/94 - 0s - loss: 0.4653\n",
            "Epoch 56/100\n",
            "94/94 - 0s - loss: 0.4653\n",
            "Epoch 57/100\n",
            "94/94 - 0s - loss: 0.4655\n",
            "Epoch 58/100\n",
            "94/94 - 0s - loss: 0.4657\n",
            "Epoch 59/100\n",
            "94/94 - 0s - loss: 0.4652\n",
            "Epoch 60/100\n",
            "94/94 - 0s - loss: 0.4655\n",
            "Epoch 61/100\n",
            "94/94 - 0s - loss: 0.4652\n",
            "Epoch 62/100\n",
            "94/94 - 0s - loss: 0.4653\n",
            "Epoch 63/100\n",
            "94/94 - 0s - loss: 0.4652\n",
            "Epoch 64/100\n",
            "94/94 - 0s - loss: 0.4651\n",
            "Epoch 65/100\n",
            "94/94 - 0s - loss: 0.4654\n",
            "Epoch 66/100\n",
            "94/94 - 0s - loss: 0.4653\n",
            "Epoch 67/100\n",
            "94/94 - 0s - loss: 0.4652\n",
            "Epoch 68/100\n",
            "94/94 - 0s - loss: 0.4654\n",
            "Epoch 69/100\n",
            "94/94 - 0s - loss: 0.4650\n",
            "Epoch 70/100\n",
            "94/94 - 0s - loss: 0.4653\n",
            "Epoch 71/100\n",
            "94/94 - 0s - loss: 0.4654\n",
            "Epoch 72/100\n",
            "94/94 - 0s - loss: 0.4653\n",
            "Epoch 73/100\n",
            "94/94 - 0s - loss: 0.4652\n",
            "Epoch 74/100\n",
            "94/94 - 0s - loss: 0.4652\n",
            "Epoch 75/100\n",
            "94/94 - 0s - loss: 0.4652\n",
            "Epoch 76/100\n",
            "94/94 - 0s - loss: 0.4653\n",
            "Epoch 77/100\n",
            "94/94 - 0s - loss: 0.4653\n",
            "Epoch 78/100\n",
            "94/94 - 0s - loss: 0.4652\n",
            "Epoch 79/100\n",
            "94/94 - 0s - loss: 0.4653\n",
            "Epoch 80/100\n",
            "94/94 - 0s - loss: 0.4653\n",
            "Epoch 81/100\n",
            "94/94 - 0s - loss: 0.4654\n",
            "Epoch 82/100\n",
            "94/94 - 0s - loss: 0.4653\n",
            "Epoch 83/100\n",
            "94/94 - 0s - loss: 0.4650\n",
            "Epoch 84/100\n",
            "94/94 - 0s - loss: 0.4652\n",
            "Epoch 85/100\n",
            "94/94 - 0s - loss: 0.4650\n",
            "Epoch 86/100\n",
            "94/94 - 0s - loss: 0.4651\n",
            "Epoch 87/100\n",
            "94/94 - 0s - loss: 0.4650\n",
            "Epoch 88/100\n",
            "94/94 - 0s - loss: 0.4654\n",
            "Epoch 89/100\n",
            "94/94 - 0s - loss: 0.4652\n",
            "Epoch 90/100\n",
            "94/94 - 0s - loss: 0.4652\n",
            "Epoch 91/100\n",
            "94/94 - 0s - loss: 0.4652\n",
            "Epoch 92/100\n",
            "94/94 - 0s - loss: 0.4653\n",
            "Epoch 93/100\n",
            "94/94 - 0s - loss: 0.4652\n",
            "Epoch 94/100\n",
            "94/94 - 0s - loss: 0.4653\n",
            "Epoch 95/100\n",
            "94/94 - 0s - loss: 0.4653\n",
            "Epoch 96/100\n",
            "94/94 - 0s - loss: 0.4651\n",
            "Epoch 97/100\n",
            "94/94 - 0s - loss: 0.4650\n",
            "Epoch 98/100\n",
            "94/94 - 0s - loss: 0.4649\n",
            "Epoch 99/100\n",
            "94/94 - 0s - loss: 0.4651\n",
            "Epoch 100/100\n",
            "94/94 - 0s - loss: 0.4656\n",
            "Train Score: 23.27 RMSE\n",
            "Test Score: 48.96 RMSE\n"
          ],
          "name": "stdout"
        },
        {
          "output_type": "display_data",
          "data": {
            "image/png": "[encoded data removed]",
            "text/plain": [
              "<Figure size 432x288 with 1 Axes>"
            ]
          },
          "metadata": {
            "tags": [],
            "needs_background": "light"
          }
        }
      ]
    }
  ]
}